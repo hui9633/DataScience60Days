{
 "cells": [
  {
   "cell_type": "markdown",
   "metadata": {},
   "source": [
    "english_score = np.array([55,89,76,65,48,70])<br>\n",
    "math_score = np.array([60,85,60,68,np.nan,60])<br>\n",
    "chinese_score = np.array([65,90,82,72,66,77])<br>\n",
    "\n",
    "上 3 列共六位同學的英文、數學、國文成績，第一個元素代表第一位同學，舉例第一位同學英文 55 分、數學 60 分、國文 65 分，今天第五位同學因某原因沒來考試，導致數學成績缺值，運用上列數據回答下列問題。<br>\n",
    "\n",
    "1.請計算各科成績平均、最大值、最小值、標準差，其中數學缺一筆資料可忽略？<br>\n",
    "2.第五位同學補考數學後成績為 55，請計算補考後數學成績平均、最大值、最小值、標準差？<br>\n",
    "3.用補考後資料找出與國文成績相關係數最高的學科？"
   ]
  },
  {
   "cell_type": "code",
   "execution_count": 1,
   "metadata": {},
   "outputs": [],
   "source": [
    "import numpy as np"
   ]
  },
  {
   "cell_type": "code",
   "execution_count": 2,
   "metadata": {},
   "outputs": [
    {
     "name": "stdout",
     "output_type": "stream",
     "text": [
      "English:\n",
      "mean:  67.17\n",
      "max:  89\n",
      "min:  48\n",
      "std:  13.43\n",
      "----------------\n",
      "math:\n",
      "mean:  66.6\n",
      "max:  85.0\n",
      "min:  60.0\n",
      "std:  9.71\n",
      "----------------\n",
      "chinese:\n",
      "mean:  75.33\n",
      "max:  90\n",
      "min:  65\n",
      "std:  8.83\n"
     ]
    }
   ],
   "source": [
    "english_score = np.array([55,89,76,65,48,70])\n",
    "math_score = np.array([60,85,60,68,np.nan,60])\n",
    "chinese_score = np.array([65,90,82,72,66,77])\n",
    "print(\"English:\")\n",
    "print(\"mean: \",round(np.mean(english_score),2))\n",
    "print(\"max: \",np.amax(english_score))\n",
    "print(\"min: \",np.amin(english_score))\n",
    "print(\"std: \",round(np.std(english_score),2))\n",
    "print(\"----------------\")\n",
    "print(\"math:\")\n",
    "print(\"mean: \",round(np.nanmean(math_score),2))\n",
    "print(\"max: \",np.nanmax(math_score))\n",
    "print(\"min: \",np.nanmin(math_score))\n",
    "print(\"std: \",round(np.nanstd(math_score),2))\n",
    "print(\"----------------\")\n",
    "print(\"chinese:\")\n",
    "print(\"mean: \",round(np.mean(chinese_score),2))\n",
    "print(\"max: \",np.amax(chinese_score))\n",
    "print(\"min: \",np.amin(chinese_score))\n",
    "print(\"std: \",round(np.std(chinese_score),2))"
   ]
  },
  {
   "cell_type": "code",
   "execution_count": 3,
   "metadata": {},
   "outputs": [
    {
     "name": "stdout",
     "output_type": "stream",
     "text": [
      "math-makeup:\n",
      "mean:  64.67\n",
      "max:  85.0\n",
      "min:  55.0\n",
      "std:  9.86\n"
     ]
    }
   ],
   "source": [
    "math_score[4] = 55\n",
    "print(\"math-makeup:\")\n",
    "print(\"mean: \",round(np.nanmean(math_score),2))\n",
    "print(\"max: \",np.max(math_score))\n",
    "print(\"min: \",np.nanmin(math_score))\n",
    "print(\"std: \",round(np.std(math_score),2))"
   ]
  },
  {
   "cell_type": "code",
   "execution_count": 4,
   "metadata": {},
   "outputs": [
    {
     "name": "stdout",
     "output_type": "stream",
     "text": [
      "國文與英文成績相關係數最高\n"
     ]
    }
   ],
   "source": [
    "corr = np.corrcoef([chinese_score,english_score,math_score])\n",
    "#corr\n",
    "if corr[0][1] > corr[0][2]:\n",
    "    print(\"國文與英文成績相關係數最高\")\n",
    "else:\n",
    "    print(\"國文與數學成績相關係數最高\")"
   ]
  }
 ],
 "metadata": {
  "kernelspec": {
   "display_name": "Python 3",
   "language": "python",
   "name": "python3"
  },
  "language_info": {
   "codemirror_mode": {
    "name": "ipython",
    "version": 3
   },
   "file_extension": ".py",
   "mimetype": "text/x-python",
   "name": "python",
   "nbconvert_exporter": "python",
   "pygments_lexer": "ipython3",
   "version": "3.8.5"
  }
 },
 "nbformat": 4,
 "nbformat_minor": 4
}
