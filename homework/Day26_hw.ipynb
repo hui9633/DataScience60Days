{
 "cells": [
  {
   "cell_type": "markdown",
   "metadata": {},
   "source": [
    "## 作業:\n",
    "今天學到不同統計量之間特性，  \n",
    "試著分析男生女生身高資料，  \n",
    "試著回答下面的問題:  \n",
    "Q1:試著用今天所教的內容，如何描述這兩組資料的樣態?    \n",
    "Q2: 請問男生和女生在平均身高上誰比較高?   \n",
    "Q3:請問第二題的答案和日常生活中觀察的一致嗎? 如果不一致，你覺得原因可能為何?    \n",
    "上述問題透過  python 語法進行運算，\n",
    "並將上述答案填寫在 (google 表單)[https://forms.gle/EDdU2Zfq8zLvDea18]\n",
    "![](作業資料圖檔.PNG)"
   ]
  },
  {
   "cell_type": "code",
   "execution_count": 1,
   "metadata": {
    "colab": {
     "base_uri": "https://localhost:8080/",
     "height": 34
    },
    "colab_type": "code",
    "executionInfo": {
     "elapsed": 1558,
     "status": "ok",
     "timestamp": 1578021044012,
     "user": {
      "displayName": "Mora chen",
      "photoUrl": "https://lh3.googleusercontent.com/a-/AAuE7mB40f7sDArbZ5_DYq02nNcnLD0Ryaf7AhsASSQeLQ=s64",
      "userId": "03171203089166907199"
     },
     "user_tz": -480
    },
    "id": "yz28_IgkYdBW",
    "outputId": "a12f486c-18b3-4fb5-d06c-f162aebd9444"
   },
   "outputs": [],
   "source": [
    "# library\n",
    "import matplotlib.pyplot as plt\n",
    "import numpy as np\n",
    "import pandas as pd\n",
    "from scipy import stats\n",
    "import math\n",
    "import statistics\n",
    "import seaborn as sns"
   ]
  },
  {
   "cell_type": "code",
   "execution_count": 2,
   "metadata": {},
   "outputs": [],
   "source": [
    "## 輸入資料\n",
    "boy = [164,175,183,173,176,159,165,165,169,151,156,163,169,144,170,177,165,160,164,171]\n",
    "girl = [169,170,162,154,183,173,169,167,170,185,162,175,168,151,181,170,182,156,159,160]"
   ]
  },
  {
   "cell_type": "code",
   "execution_count": 3,
   "metadata": {},
   "outputs": [
    {
     "name": "stdout",
     "output_type": "stream",
     "text": [
      "              boy        girl\n",
      "count   20.000000   20.000000\n",
      "mean   165.950000  168.300000\n",
      "std      9.213691    9.766215\n",
      "min    144.000000  151.000000\n",
      "25%    162.250000  161.500000\n",
      "50%    165.000000  169.000000\n",
      "75%    171.500000  173.500000\n",
      "max    183.000000  185.000000 \n",
      "\n",
      "mode: \n",
      "    boy  girl\n",
      "0  165   170 \n",
      "\n",
      "variance: \n",
      " boy     84.892105\n",
      "girl    95.378947\n",
      "dtype: float64 \n",
      "\n",
      "skewness偏度: \n",
      " boy    -0.51043\n",
      "girl    0.06482\n",
      "dtype: float64 \n",
      "\n",
      "kurtosis峰度: \n",
      " boy     0.625456\n",
      "girl   -0.697137\n",
      "dtype: float64 \n",
      "\n"
     ]
    }
   ],
   "source": [
    "#Q1:試著用今天所教的內容，如何描述這兩組資料的樣態?\n",
    "#分別計算男生和女生的統計量\n",
    "df = pd.DataFrame([boy,girl]).T\n",
    "df.columns = ['boy','girl']\n",
    "print(df.describe(),\"\\n\")\n",
    "print(\"mode:\",\"\\n\",df.mode(),\"\\n\")\n",
    "print(\"variance:\",\"\\n\",df.var(),\"\\n\")\n",
    "print(\"skewness偏度:\",\"\\n\",df.skew(),\"\\n\")\n",
    "print(\"kurtosis峰度:\",\"\\n\",df.kurtosis(),\"\\n\")\n"
   ]
  },
  {
   "cell_type": "code",
   "execution_count": 4,
   "metadata": {},
   "outputs": [
    {
     "name": "stdout",
     "output_type": "stream",
     "text": [
      "男生平均身高: 165.95\n",
      "女生平均身高: 168.3\n"
     ]
    }
   ],
   "source": [
    "#Q2: 請問男生和女生在平均身高上誰比較高? \n",
    "print(\"男生平均身高:\",np.mean(boy))\n",
    "print(\"女生平均身高:\",np.mean(girl))\n",
    "\n",
    "#女生平均身高較高"
   ]
  },
  {
   "cell_type": "code",
   "execution_count": 5,
   "metadata": {},
   "outputs": [
    {
     "data": {
      "text/plain": [
       "'\\n和日常生活中觀察不一致，\\n樣本數太少\\n'"
      ]
     },
     "execution_count": 5,
     "metadata": {},
     "output_type": "execute_result"
    }
   ],
   "source": [
    "#Q3:請問第二題的答案和日常生活中觀察的一致嗎? 如果不一致，你覺得原因可能為何? \n",
    "'''\n",
    "和日常生活中觀察不一致，\n",
    "樣本數太少\n",
    "'''"
   ]
  }
 ],
 "metadata": {
  "colab": {
   "name": "Day33.YOLO 細節理解 - 網路輸出的後處理_HW.ipynb",
   "provenance": []
  },
  "kernelspec": {
   "display_name": "Python 3",
   "language": "python",
   "name": "python3"
  },
  "language_info": {
   "codemirror_mode": {
    "name": "ipython",
    "version": 3
   },
   "file_extension": ".py",
   "mimetype": "text/x-python",
   "name": "python",
   "nbconvert_exporter": "python",
   "pygments_lexer": "ipython3",
   "version": "3.8.5"
  }
 },
 "nbformat": 4,
 "nbformat_minor": 1
}
