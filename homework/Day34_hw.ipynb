{
 "cells": [
  {
   "cell_type": "markdown",
   "metadata": {},
   "source": [
    "## 作業:\n",
    "今天課程中以一個案例，說明資料分析的流程與探索性分析，是否對於課程中一開始的問題，更有想法了?!<br>\n",
    "Q1: 哪一個問題不適合用資料科學解決?<br>\n",
    "    a)挑選 Mr./Ms. Right<br>\n",
    "    b)顧客下次會買哪些東西？<br>\n",
    "    c)半導體的良率預測？<br>\n",
    "Q2: 以你的角度來分析，為什麼這樣的問題，較不適合用資料來解決?<br>    \n",
    "將答案寫在論壇中，大家一起互相討論激盪<br>\n",
    "![](作業圖檔.PNG)"
   ]
  },
  {
   "cell_type": "code",
   "execution_count": 1,
   "metadata": {},
   "outputs": [
    {
     "data": {
      "text/plain": [
       "'\\n我認為「挑選Mr./Ms. Right」不適合用資料科學解決，\\n資料科學是基於數據來解決問題，\\n「顧客下次會買哪些東西」及「半導體的良率預測」都有足夠的歷史數據能夠分析處理，\\n除非你交過超多任男女朋友，才有可能從中找出你喜歡類型的共同特徵。\\n'"
      ]
     },
     "execution_count": 1,
     "metadata": {},
     "output_type": "execute_result"
    }
   ],
   "source": [
    "'''\n",
    "我認為「挑選Mr./Ms. Right」不適合用資料科學解決，\n",
    "資料科學是基於數據來解決問題，\n",
    "「顧客下次會買哪些東西」及「半導體的良率預測」都有足夠的歷史數據能夠分析處理，\n",
    "除非你交過超多任男女朋友，才有可能從中找出你喜歡類型的共同特徵。\n",
    "'''"
   ]
  },
  {
   "cell_type": "code",
   "execution_count": null,
   "metadata": {},
   "outputs": [],
   "source": []
  }
 ],
 "metadata": {
  "colab": {
   "name": "Day33.YOLO 細節理解 - 網路輸出的後處理_HW.ipynb",
   "provenance": []
  },
  "kernelspec": {
   "display_name": "Python 3",
   "language": "python",
   "name": "python3"
  },
  "language_info": {
   "codemirror_mode": {
    "name": "ipython",
    "version": 3
   },
   "file_extension": ".py",
   "mimetype": "text/x-python",
   "name": "python",
   "nbconvert_exporter": "python",
   "pygments_lexer": "ipython3",
   "version": "3.8.5"
  }
 },
 "nbformat": 4,
 "nbformat_minor": 1
}
