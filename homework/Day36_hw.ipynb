{
 "cells": [
  {
   "cell_type": "markdown",
   "metadata": {},
   "source": [
    "## 作業\n",
    "在鐵達尼資料集中，   \n",
    "可以用今天範例中提到的三種辨識異常值的方法，  \n",
    "以 training data 為資料集。  \n",
    "1.觀察票價是否有異常值的現象?  \n",
    "2.你覺得找出的異常是真的異常? 你覺得需要做處理嗎?  \n",
    "(試著講出自己的想法。)  \n"
   ]
  },
  {
   "cell_type": "markdown",
   "metadata": {
    "colab_type": "text",
    "id": "Z9YHBcEGYdBV"
   },
   "source": [
    "### 資料\n",
    "鐵達尼號 train 資料集\n"
   ]
  },
  {
   "cell_type": "code",
   "execution_count": 18,
   "metadata": {
    "colab": {
     "base_uri": "https://localhost:8080/",
     "height": 34
    },
    "colab_type": "code",
    "executionInfo": {
     "elapsed": 1558,
     "status": "ok",
     "timestamp": 1578021044012,
     "user": {
      "displayName": "Mora chen",
      "photoUrl": "https://lh3.googleusercontent.com/a-/AAuE7mB40f7sDArbZ5_DYq02nNcnLD0Ryaf7AhsASSQeLQ=s64",
      "userId": "03171203089166907199"
     },
     "user_tz": -480
    },
    "id": "yz28_IgkYdBW",
    "outputId": "a12f486c-18b3-4fb5-d06c-f162aebd9444"
   },
   "outputs": [],
   "source": [
    "# library\n",
    "import matplotlib.pyplot as plt\n",
    "import numpy as np\n",
    "import pandas as pd\n",
    "import seaborn  as sns\n",
    "from scipy import stats\n",
    "import math\n",
    "import statistics\n",
    "#讓圖可以在 jupyter notebook顯示\n",
    "%matplotlib inline"
   ]
  },
  {
   "cell_type": "code",
   "execution_count": 19,
   "metadata": {},
   "outputs": [],
   "source": [
    "df_train = pd.read_csv(\"Titanic_train.csv\")"
   ]
  },
  {
   "cell_type": "markdown",
   "metadata": {},
   "source": [
    "### 探索性分析:\n",
    "*  觀察-是否有異常值  \n",
    "我們來觀察一下 Fare 變數吧!!"
   ]
  },
  {
   "cell_type": "code",
   "execution_count": 20,
   "metadata": {},
   "outputs": [
    {
     "name": "stdout",
     "output_type": "stream",
     "text": [
      "mean_Fare 32.204207968574636\n",
      "std_Fare 49.6934285971809\n"
     ]
    },
    {
     "name": "stderr",
     "output_type": "stream",
     "text": [
      "C:\\Users\\USER\\anaconda3\\lib\\site-packages\\seaborn\\distributions.py:2557: FutureWarning: `distplot` is a deprecated function and will be removed in a future version. Please adapt your code to use either `displot` (a figure-level function with similar flexibility) or `histplot` (an axes-level function for histograms).\n",
      "  warnings.warn(msg, FutureWarning)\n"
     ]
    },
    {
     "data": {
      "text/plain": [
       "<seaborn.axisgrid.FacetGrid at 0x2039acd7340>"
      ]
     },
     "execution_count": 20,
     "metadata": {},
     "output_type": "execute_result"
    },
    {
     "data": {
      "image/png": "[encoded data removed]",
      "text/plain": [
       "<Figure size 432x216 with 2 Axes>"
      ]
     },
     "metadata": {
      "needs_background": "light"
     },
     "output_type": "display_data"
    }
   ],
   "source": [
    "print(\"mean_Fare\",df_train['Fare'].mean())\n",
    "print(\"std_Fare\",df_train['Fare'].std())\n",
    "g = sns.FacetGrid(df_train,col= 'Survived')\n",
    "g.map(sns.distplot,'Fare',kde=False)"
   ]
  },
  {
   "cell_type": "markdown",
   "metadata": {},
   "source": [
    "## Q1:觀察票價是否有異常值的現象?"
   ]
  },
  {
   "cell_type": "markdown",
   "metadata": {},
   "source": [
    "## 方法1\n",
    "* 進行一個描述性的統計（規定範圍），從而檢視哪些值是不合理的（範圍以外的值）。  \n"
   ]
  },
  {
   "cell_type": "code",
   "execution_count": 21,
   "metadata": {},
   "outputs": [
    {
     "name": "stdout",
     "output_type": "stream",
     "text": [
      "count    891.000000\n",
      "mean      32.204208\n",
      "std       49.693429\n",
      "min        0.000000\n",
      "25%        7.910400\n",
      "50%       14.454200\n",
      "75%       31.000000\n",
      "max      512.329200\n",
      "Name: Fare, dtype: float64\n"
     ]
    }
   ],
   "source": [
    "print(df_train['Fare'].describe())\n",
    "# 可查過往鐵達票價的範圍資料，檢查票價是否在販售範圍內。"
   ]
  },
  {
   "cell_type": "markdown",
   "metadata": {},
   "source": [
    "## 方法 2\n",
    "* 進行3倍標準差原則的計算，從而檢視哪些值是可疑的異常值。  \n"
   ]
  },
  {
   "cell_type": "code",
   "execution_count": 25,
   "metadata": {},
   "outputs": [
    {
     "name": "stdout",
     "output_type": "stream",
     "text": [
      "27     263.0000\n",
      "88     263.0000\n",
      "118    247.5208\n",
      "258    512.3292\n",
      "299    247.5208\n",
      "311    262.3750\n",
      "341    263.0000\n",
      "377    211.5000\n",
      "380    227.5250\n",
      "438    263.0000\n",
      "527    221.7792\n",
      "557    227.5250\n",
      "679    512.3292\n",
      "689    211.3375\n",
      "700    227.5250\n",
      "716    227.5250\n",
      "730    211.3375\n",
      "737    512.3292\n",
      "742    262.3750\n",
      "779    211.3375\n",
      "Name: Fare, dtype: float64\n"
     ]
    }
   ],
   "source": [
    "def outlier_zscore(fs,times):\n",
    "    mean_Fare = np.mean(fs)\n",
    "    std_Fare = np.std(fs)\n",
    "    zscore = [(f-mean_Fare) / std_Fare for f in fs]\n",
    "    return np.where(np.abs(zscore) > times)\n",
    "\n",
    "outlier_index = outlier_zscore(df_train['Fare'],3)\n",
    "print(df_train.loc[outlier_index[0],'Fare'])"
   ]
  },
  {
   "cell_type": "markdown",
   "metadata": {},
   "source": [
    "## 方法3-盒鬚圖判別法(IQR method)"
   ]
  },
  {
   "cell_type": "code",
   "execution_count": 26,
   "metadata": {},
   "outputs": [
    {
     "name": "stdout",
     "output_type": "stream",
     "text": [
      "1       71.2833\n",
      "27     263.0000\n",
      "31     146.5208\n",
      "34      82.1708\n",
      "52      76.7292\n",
      "         ...   \n",
      "846     69.5500\n",
      "849     89.1042\n",
      "856    164.8667\n",
      "863     69.5500\n",
      "879     83.1583\n",
      "Name: Fare, Length: 116, dtype: float64\n"
     ]
    }
   ],
   "source": [
    " #使用 np.percentile 要去除 nan，要不然計算出來會錯誤，所以採用np.nanpercentile\n",
    "def outlier_boxplot(f,times):\n",
    "    quartile1, quartile3 = np.nanpercentile(f,[25,75])\n",
    "    iqr = quartile3 - quartile1\n",
    "    lower_bound = quartile1 - times*iqr\n",
    "    upper_bound = quartile3 + times*iqr\n",
    "    return np.where((f > upper_bound)|(f < lower_bound))\n",
    "\n",
    "outlier_index2 = outlier_boxplot(df_train['Fare'],1.5)\n",
    "print(df_train.loc[outlier_index2[0],'Fare'])"
   ]
  },
  {
   "cell_type": "code",
   "execution_count": 28,
   "metadata": {},
   "outputs": [
    {
     "data": {
      "image/png": "[encoded data removed]",
      "text/plain": [
       "<Figure size 432x288 with 1 Axes>"
      ]
     },
     "metadata": {
      "needs_background": "light"
     },
     "output_type": "display_data"
    }
   ],
   "source": [
    "# 使用np.isnana(data)，找出在 age中的遺失值，然後逐位反轉，讓遺失值為 0,則可以透過索引的方式，濾掉遺失值。\n",
    "# whis -設定 IQR 的倍數\n",
    "plt.boxplot(df_train['Fare'][~np.isnan(df_train['Fare'])],whis=1.5)\n",
    "plt.title(\"Fare_Box Plot\")\n",
    "plt.show()"
   ]
  },
  {
   "cell_type": "markdown",
   "metadata": {},
   "source": [
    "## Q2:你覺得找出的異常是真的異常? 你覺得需要做處理嗎?\n"
   ]
  },
  {
   "cell_type": "code",
   "execution_count": 30,
   "metadata": {},
   "outputs": [
    {
     "name": "stdout",
     "output_type": "stream",
     "text": [
      "不一定是真的異常值，票價會因艙等、購買時間、數量等因素而有明顯差距。或是可把data中艙等欄位當參考依據\n"
     ]
    }
   ],
   "source": [
    "print(\"不一定是真的異常值，票價會因艙等、購買時間、數量等因素而有明顯差距。或是可把data中艙等欄位當參考依據\")"
   ]
  }
 ],
 "metadata": {
  "colab": {
   "name": "Day33.YOLO 細節理解 - 網路輸出的後處理_HW.ipynb",
   "provenance": []
  },
  "kernelspec": {
   "display_name": "Python 3",
   "language": "python",
   "name": "python3"
  },
  "language_info": {
   "codemirror_mode": {
    "name": "ipython",
    "version": 3
   },
   "file_extension": ".py",
   "mimetype": "text/x-python",
   "name": "python",
   "nbconvert_exporter": "python",
   "pygments_lexer": "ipython3",
   "version": "3.8.5"
  }
 },
 "nbformat": 4,
 "nbformat_minor": 1
}
