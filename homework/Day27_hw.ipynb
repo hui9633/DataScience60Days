{
 "cells": [
  {
   "cell_type": "markdown",
   "metadata": {},
   "source": [
    "## 作業:\n",
    "今天學到的分配，包含，   \n",
    "離散均勻分配( Discrete Uniform Distribution )   \n",
    "伯努利分配( Bernoulli Distribution )<br>\n",
    "二項分配(Binomial Distribution)\n",
    "\n",
    "今天我們透過作業中的問題，回想今天的內容吧!  "
   ]
  },
  {
   "cell_type": "markdown",
   "metadata": {},
   "source": [
    "### 丟一個銅板，丟了100次，出現正面 50 次的機率有多大。\n",
    "(提示: 先想是哪一種分配，然後透過 python 語法進行計算)\n"
   ]
  },
  {
   "cell_type": "code",
   "execution_count": 8,
   "metadata": {},
   "outputs": [
    {
     "name": "stdout",
     "output_type": "stream",
     "text": [
      "P(X=50)= 0.07958923738717888\n"
     ]
    },
    {
     "data": {
      "image/png": "[encoded data removed]",
      "text/plain": [
       "<Figure size 432x288 with 1 Axes>"
      ]
     },
     "metadata": {
      "needs_background": "light"
     },
     "output_type": "display_data"
    }
   ],
   "source": [
    "import matplotlib.pyplot as plt\n",
    "import numpy as np\n",
    "import pandas as pd\n",
    "from scipy import stats\n",
    "import math\n",
    "import statistics\n",
    "'''\n",
    "二項分配\n",
    "'''\n",
    "p = 0.5\n",
    "n = 100\n",
    "r = np.arange(0,101)\n",
    "probs = stats.binom.pmf(r,n,p)\n",
    "print(\"P(X=50)=\",probs[50])\n",
    "plt.bar(r,probs)\n",
    "plt.ylabel('P(X=x)')\n",
    "plt.xlabel('x')\n",
    "plt.title('binomial(n=5,p=0.5)')\n",
    "plt.show()"
   ]
  },
  {
   "cell_type": "code",
   "execution_count": null,
   "metadata": {},
   "outputs": [],
   "source": []
  }
 ],
 "metadata": {
  "colab": {
   "name": "Day33.YOLO 細節理解 - 網路輸出的後處理_HW.ipynb",
   "provenance": []
  },
  "kernelspec": {
   "display_name": "Python 3",
   "language": "python",
   "name": "python3"
  },
  "language_info": {
   "codemirror_mode": {
    "name": "ipython",
    "version": 3
   },
   "file_extension": ".py",
   "mimetype": "text/x-python",
   "name": "python",
   "nbconvert_exporter": "python",
   "pygments_lexer": "ipython3",
   "version": "3.8.5"
  }
 },
 "nbformat": 4,
 "nbformat_minor": 1
}
