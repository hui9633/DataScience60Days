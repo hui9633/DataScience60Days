{
 "cells": [
  {
   "attachments": {},
   "cell_type": "markdown",
   "metadata": {},
   "source": [
    "作業目標:了解效能優化方法\n",
    "\n",
    "題目: <br>\n",
    "1.在速度較慢的時候，可以先從哪邊開始檢查? <br>\n",
    "  檔案的讀取(pkl 檔>csv檔)<br>\n",
    "  使用內建函數(groupby+agg+內建函數)<br>\n",
    "  向量化的資料處理(用isin()篩選資料)\n",
    "  \n",
    "2.資料過大時應採取什麼方式讓記憶體占用量下降? <br>\n",
    "  將欄位中的型態降級(將浮點數型態 float64 改成float32)\n",
    "\n"
   ]
  }
 ],
 "metadata": {
  "kernelspec": {
   "display_name": "Python 3",
   "language": "python",
   "name": "python3"
  },
  "language_info": {
   "codemirror_mode": {
    "name": "ipython",
    "version": 3
   },
   "file_extension": ".py",
   "mimetype": "text/x-python",
   "name": "python",
   "nbconvert_exporter": "python",
   "pygments_lexer": "ipython3",
   "version": "3.8.5"
  }
 },
 "nbformat": 4,
 "nbformat_minor": 4
}
